{
 "cells": [
  {
   "cell_type": "markdown",
   "metadata": {},
   "source": [
    "# Analyse de données de prématurés (Descout, Hourdeau, Petton)"
   ]
  },
  {
   "cell_type": "markdown",
   "metadata": {
    "id": "1I36sZRzPqyB"
   },
   "source": [
    "Quels sont les facteurs de risques pouvant entraîner une prématurité chez les femmes enceintes?"
   ]
  },
  {
   "cell_type": "markdown",
   "metadata": {
    "colab": {
     "base_uri": "https://localhost:8080/",
     "height": 34
    },
    "id": "SUb-5GtXbFO5",
    "outputId": "4effc317-5449-473a-bdfb-94c1dbc6ff88"
   },
   "source": [
    "![Photo de bébé](./prematures_images/photo-bebe.jpg)"
   ]
  },
  {
   "cell_type": "markdown",
   "metadata": {
    "id": "MjPAm9Q1QR_X"
   },
   "source": [
    "Le but de ce projet était de créer un dashboard permettant de visualiser des données de notre choix. Celui-ci s'est porté sur un jeu de données spécifique. Dans le cadre d’une étude sur les facteurs prénataux liés à un accouchement prématuré chez les femmes déjà en travail prématuré, on dispose de 13 variables explicatives sur 388 femmes incluses dans l'étude. Les variables sont les suivantes :"
   ]
  },
  {
   "cell_type": "markdown",
   "metadata": {
    "colab": {
     "base_uri": "https://localhost:8080/",
     "height": 34
    },
    "id": "uK8H4sFpT6QY",
    "outputId": "ad4a7441-89a1-4fa2-a515-cb99447fab36"
   },
   "source": [
    "![Table de données](./prematures_images/Prema.png)"
   ]
  },
  {
   "cell_type": "markdown",
   "metadata": {
    "id": "zn5AzYvFVkdw"
   },
   "source": [
    "Nous avons crée une pop up sur notre application permettant d'accéder au dictionnaire des données ci-dessus qui permettra d'avoir des précisions sur les différentes variables ainsi que sur leurs modalités. "
   ]
  },
  {
   "cell_type": "markdown",
   "metadata": {
    "id": "WtJXJ5MSWxNy"
   },
   "source": [
    "Ensuite, nous avons décidé de créer des filtres, nous permettant de choisir différentes modalités de certaines variables. Par exemple, comme présenté ci-dessous, nous avons décidé de filtrer les données en fonction d'une grossesse prématurée ou non. Nous pourrons donc choisir d'afficher la modalité Positif ou Négatif correspondant à la variable. Ensuite, nous pouvons également trier nos données en fonction du type de grossesse. Nous pourrons donc choisir si nous voulons affichier les données correspondant à une grossesse simple ou multiple. Enfin, les données peuvent être filtrées en fonction de si la femme enceinte présente des contractions ou pas. "
   ]
  },
  {
   "cell_type": "markdown",
   "metadata": {
    "colab": {
     "base_uri": "https://localhost:8080/",
     "height": 34
    },
    "id": "o1K-F3rfXcix",
    "outputId": "50a40246-57fc-4ee3-b2e0-f686ea55a8b5"
   },
   "source": [
    "![Filtres](./prematures_images/filtres.png)"
   ]
  },
  {
   "cell_type": "markdown",
   "metadata": {
    "id": "Zgc2vtZPaLew"
   },
   "source": [
    "Ensuite, nous pouvons également choisir l'âge de la mère, à l'aide d'un curseur comme ci-dessous:"
   ]
  },
  {
   "cell_type": "markdown",
   "metadata": {
    "colab": {
     "base_uri": "https://localhost:8080/",
     "height": 34
    },
    "id": "hgCRtSUxaeAR",
    "outputId": "d68e61d2-e70e-441d-bce0-033686bf3653"
   },
   "source": [
    "![Curseur age](./prematures_images/filtre_age.png)"
   ]
  },
  {
   "cell_type": "markdown",
   "metadata": {
    "id": "PHcWaQxbgAuY"
   },
   "source": [
    "Sur l'image précédente, nous avons sélectionné les femmes enceintes agées entre 18 et 24 ans."
   ]
  },
  {
   "cell_type": "markdown",
   "metadata": {
    "id": "I7Kn9ebbhVVW"
   },
   "source": [
    "Ensuite, lorsque nous avons sélectionné les différents filtres voulus, nous pouvons choisir la variable que nous voulons afficher. Nous avons donc crée une liste déroulante comme ci-dessous:"
   ]
  },
  {
   "cell_type": "markdown",
   "metadata": {
    "id": "JpEq2rjZhh8r"
   },
   "source": [
    "![Curseur age](./prematures_images/liste_choix_graphe.png)"
   ]
  },
  {
   "cell_type": "markdown",
   "metadata": {
    "id": "npKXv756i5rl"
   },
   "source": [
    "Si nous sélectionnons des filtres qui ne possèdent pas de données, nous avons affiché un message comme ci-dessous:"
   ]
  },
  {
   "cell_type": "markdown",
   "metadata": {
    "id": "i7fk1XG5jCYZ"
   },
   "source": [
    "![Curseur age](./prematures_images/aucune_donnee.png)"
   ]
  },
  {
   "cell_type": "markdown",
   "metadata": {
    "id": "66AqHyFqUrms"
   },
   "source": [
    "Au début de notre projet, nous avons rencontré quelques difficultés. Nous avons commencé à coder notre projet en flask, puis nous avons remarqué que c'était plus compliqué et plus long. Nous avons donc décidé de passer en dash. "
   ]
  }
 ],
 "metadata": {
  "colab": {
   "collapsed_sections": [],
   "name": "Architecture_logicielle.ipynb",
   "provenance": []
  },
  "kernelspec": {
   "display_name": "Python 3",
   "language": "python",
   "name": "python3"
  },
  "language_info": {
   "codemirror_mode": {
    "name": "ipython",
    "version": 3
   },
   "file_extension": ".py",
   "mimetype": "text/x-python",
   "name": "python",
   "nbconvert_exporter": "python",
   "pygments_lexer": "ipython3",
   "version": "3.6.12"
  }
 },
 "nbformat": 4,
 "nbformat_minor": 1
}
